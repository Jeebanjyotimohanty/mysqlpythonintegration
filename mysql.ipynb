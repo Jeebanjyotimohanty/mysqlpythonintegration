{
 "cells": [
  {
   "cell_type": "code",
   "execution_count": 1,
   "id": "ff458fd2-1be6-488e-8a04-657bd8e472f9",
   "metadata": {},
   "outputs": [
    {
     "data": {
      "text/plain": [
       "'\\n1)A database is an organized collection of data, so that it can be easily accessed and managed.A database is an organized collection of data, so that it can be easily accessed and managed.\\nSQL:-It stands for structure query language\\n     SQL database or relational database is a collection of highly structured tables, wherein each row reflects a data entity, and every column defines a specific information field.\\nNoSQL:-It stands for not only structure  query language.\\n      NoSQL databases are non-tabular databases and store data differently than relational tables. NoSQL databases come in a variety of types based on their data model. The main types are document, key-value, wide-column, and graph. They provide flexible schemas and scale easily with large amounts of data and high user loads.\\n'"
      ]
     },
     "execution_count": 1,
     "metadata": {},
     "output_type": "execute_result"
    }
   ],
   "source": [
    "\"\"\"\n",
    "1)A database is an organized collection of data, so that it can be easily accessed and managed.A database is an organized collection of data, so that it can be easily accessed and managed.\n",
    "SQL:-It stands for structure query language\n",
    "     SQL database or relational database is a collection of highly structured tables, wherein each row reflects a data entity, and every column defines a specific information field.\n",
    "NoSQL:-It stands for not only structure  query language.\n",
    "      NoSQL databases are non-tabular databases and store data differently than relational tables. NoSQL databases come in a variety of types based on their data model. The main types are document, key-value, wide-column, and graph. They provide flexible schemas and scale easily with large amounts of data and high user loads.\n",
    "\"\"\""
   ]
  },
  {
   "cell_type": "code",
   "execution_count": 2,
   "id": "c67c9af1-74cf-4571-abdd-b8ad017d1e4a",
   "metadata": {},
   "outputs": [
    {
     "data": {
      "text/plain": [
       "\"\\n2)DDL:-It stands for Data Defination Language\\nThe DDL Commands in Structured Query Language are used to create and modify the schema of the database and its objects\\n-->CREATE command:-CREATE is a DDL command used to create databases, tables, triggers and other database objects.\\n>syntax:-CREATE Database Database_Name;  \\n>example:-Create Database Books;\\n-->DROP command:-DROP is a DDL command used to delete/remove the database objects from the SQL database. \\n>syntax:-DROP DATABASE Database_Name;\\n>example:-DROP DATABASE Books;\\n-->ALTER command:-ALTER is a DDL command which changes or modifies the existing structure of the database, and it also changes the schema of database objects.\\n>syntax:-ALTER TABLE name_of_table ADD column_name column_definition;  \\n>example:-ALTER TABLE Student ADD Father's_Name Varchar(60); \\n-->TRUNCATE command:-TRUNCATE is another DDL command which deletes or removes all the records from the table.\\n>syntax:-TRUNCATE TABLE Table_Name;\\n>example:-TRUNCATE TABLE Student;\\n\""
      ]
     },
     "execution_count": 2,
     "metadata": {},
     "output_type": "execute_result"
    }
   ],
   "source": [
    "\"\"\"\n",
    "2)DDL:-It stands for Data Defination Language\n",
    "The DDL Commands in Structured Query Language are used to create and modify the schema of the database and its objects\n",
    "-->CREATE command:-CREATE is a DDL command used to create databases, tables, triggers and other database objects.\n",
    ">syntax:-CREATE Database Database_Name;  \n",
    ">example:-Create Database Books;\n",
    "-->DROP command:-DROP is a DDL command used to delete/remove the database objects from the SQL database. \n",
    ">syntax:-DROP DATABASE Database_Name;\n",
    ">example:-DROP DATABASE Books;\n",
    "-->ALTER command:-ALTER is a DDL command which changes or modifies the existing structure of the database, and it also changes the schema of database objects.\n",
    ">syntax:-ALTER TABLE name_of_table ADD column_name column_definition;  \n",
    ">example:-ALTER TABLE Student ADD Father's_Name Varchar(60); \n",
    "-->TRUNCATE command:-TRUNCATE is another DDL command which deletes or removes all the records from the table.\n",
    ">syntax:-TRUNCATE TABLE Table_Name;\n",
    ">example:-TRUNCATE TABLE Student;\n",
    "\"\"\""
   ]
  },
  {
   "cell_type": "code",
   "execution_count": 3,
   "id": "7b8b457a-da3e-4c47-a6a7-6dcd6acdbe3f",
   "metadata": {},
   "outputs": [
    {
     "data": {
      "text/plain": [
       "'\\n3)DML:-It stands for data manipulation language.A data manipulation language (DML) is a family of computer languages including commands permitting users to manipulate data in a database.\\n-->INSERT command:-This command adds one or more records to a database table.\\n>syntax:-INSERT INTO NAME_OF_TABLE (1_column, 2_column, 3_column, …. N_column)\\nVALUES (1_value, 2_value, 3_value, …. N_value);\\n>example:-INSERT INTO Student(Stu_Name, DOB, Phone, Mail)\\nVALUES(‘Phoebe’, ‘1998-05-26’, 7812865845, ‘user@xyz.com’);\\n-->UPDATE command:-This statement in SQL is used to update the data that is present in an existing table of a database. The UPDATE statement can be used to update single or multiple columns on the basis of our specific needs.\\n>syntax:-UPDATE name_of_table SET 1_coumn = 1_value, 2_coumn = 2_value, 3_coumn = 3_value, … , N_coumn = N_value\\nWHERE condition;\\n>example:-UPDATE Student SET Phone = 9039462901 WHERE Stu_Name = ’Phoebe’;\\n-->DELETE command:-The DELETE statement can be used in SQL to delete various records from a given table. On the basis of the condition that has been set in the WHERE clause, one can delete single or multiple records.\\n>syntax:-DELETE FROM name_of_table [WHERE condition];\\n>example:-DELETE FROM Student WHERE Stu_Name = ’Phoebe’;\\n'"
      ]
     },
     "execution_count": 3,
     "metadata": {},
     "output_type": "execute_result"
    }
   ],
   "source": [
    "\"\"\"\n",
    "3)DML:-It stands for data manipulation language.A data manipulation language (DML) is a family of computer languages including commands permitting users to manipulate data in a database.\n",
    "-->INSERT command:-This command adds one or more records to a database table.\n",
    ">syntax:-INSERT INTO NAME_OF_TABLE (1_column, 2_column, 3_column, …. N_column)\n",
    "VALUES (1_value, 2_value, 3_value, …. N_value);\n",
    ">example:-INSERT INTO Student(Stu_Name, DOB, Phone, Mail)\n",
    "VALUES(‘Phoebe’, ‘1998-05-26’, 7812865845, ‘user@xyz.com’);\n",
    "-->UPDATE command:-This statement in SQL is used to update the data that is present in an existing table of a database. The UPDATE statement can be used to update single or multiple columns on the basis of our specific needs.\n",
    ">syntax:-UPDATE name_of_table SET 1_coumn = 1_value, 2_coumn = 2_value, 3_coumn = 3_value, … , N_coumn = N_value\n",
    "WHERE condition;\n",
    ">example:-UPDATE Student SET Phone = 9039462901 WHERE Stu_Name = ’Phoebe’;\n",
    "-->DELETE command:-The DELETE statement can be used in SQL to delete various records from a given table. On the basis of the condition that has been set in the WHERE clause, one can delete single or multiple records.\n",
    ">syntax:-DELETE FROM name_of_table [WHERE condition];\n",
    ">example:-DELETE FROM Student WHERE Stu_Name = ’Phoebe’;\n",
    "\"\"\""
   ]
  },
  {
   "cell_type": "code",
   "execution_count": 4,
   "id": "873d1272-c0ef-4b62-8c76-fb9bcecd7978",
   "metadata": {},
   "outputs": [
    {
     "data": {
      "text/plain": [
       "'\\n4)DQL:-It stands for data query language.It is a  computer languages that are used to make various queries in information systems and databases.\\n-->SELECT command:-SELECT command is used to extract data from a database in order to perform actions on it.\\n>syntax:-SELECT expression FROM table_x WHERE code_conditions;\\n>example:-SELECT Stu_Name FROM Student WHERE Phone = 9039462908;\\n'"
      ]
     },
     "execution_count": 4,
     "metadata": {},
     "output_type": "execute_result"
    }
   ],
   "source": [
    "\"\"\"\n",
    "4)DQL:-It stands for data query language.It is a  computer languages that are used to make various queries in information systems and databases.\n",
    "-->SELECT command:-SELECT command is used to extract data from a database in order to perform actions on it.\n",
    ">syntax:-SELECT expression FROM table_x WHERE code_conditions;\n",
    ">example:-SELECT Stu_Name FROM Student WHERE Phone = 9039462908;\n",
    "\"\"\""
   ]
  },
  {
   "cell_type": "code",
   "execution_count": 5,
   "id": "f398cadc-6c00-4b4d-a5ca-fafc559452a1",
   "metadata": {},
   "outputs": [
    {
     "data": {
      "text/plain": [
       "'\\n5)\\n-->primary key:-A primary key generally focuses on the uniqueness of the table. It is a column or a set of columns that uniquely distinguishes every row in the database. It means it should not have any duplicate value. Also, it doesn’t contain a NULL value.\\n-->foreign key:-A foreign key is generally used to build a relationship between the two tables. The major purpose of the foreign key is to sustain data integrity between two separate instances of an entity.\\n\\n'"
      ]
     },
     "execution_count": 5,
     "metadata": {},
     "output_type": "execute_result"
    }
   ],
   "source": [
    "\"\"\"\n",
    "5)\n",
    "-->primary key:-A primary key generally focuses on the uniqueness of the table. It is a column or a set of columns that uniquely distinguishes every row in the database. It means it should not have any duplicate value. Also, it doesn’t contain a NULL value.\n",
    "-->foreign key:-A foreign key is generally used to build a relationship between the two tables. The major purpose of the foreign key is to sustain data integrity between two separate instances of an entity.\n",
    "\n",
    "\"\"\""
   ]
  },
  {
   "cell_type": "code",
   "execution_count": 7,
   "id": "c041e632-0c1a-4c1d-b675-6fc741d4c285",
   "metadata": {},
   "outputs": [
    {
     "data": {
      "text/plain": [
       "'\\n6)\\npython code to connect mysql with python:-\\n\\nimport mysql.connector\\nmydb=mysql.connector.connect(\\n        host=\" \",\\n        user=\" \"\\'\\n        password=\" \"\\n        )\\nmycursor=mydb.cursor()\\nmycursor.execute() #here the command is given which is to be executed\\n\\n-->cursor:-A cursor in database is a construct which allows you to iterate/traversal the records of a table\\n-->execute:-The Execute method executes a specified query, SQL statement, stored procedure, or provider-specific text.\\n'"
      ]
     },
     "execution_count": 7,
     "metadata": {},
     "output_type": "execute_result"
    }
   ],
   "source": [
    "\"\"\"\n",
    "6)\n",
    "python code to connect mysql with python:-\n",
    "\n",
    "import mysql.connector\n",
    "mydb=mysql.connector.connect(\n",
    "        host=\" \",\n",
    "        user=\" \"'\n",
    "        password=\" \"\n",
    "        )\n",
    "mycursor=mydb.cursor()\n",
    "mycursor.execute() #here the command is given which is to be executed\n",
    "\n",
    "-->cursor:-A cursor in database is a construct which allows you to iterate/traversal the records of a table\n",
    "-->execute:-The Execute method executes a specified query, SQL statement, stored procedure, or provider-specific text.\n",
    "\"\"\""
   ]
  },
  {
   "cell_type": "code",
   "execution_count": null,
   "id": "210c847b-ab48-4ccb-afc4-b02adfc30975",
   "metadata": {},
   "outputs": [],
   "source": [
    "\"\"\"\n",
    "\n",
    "\"\"\""
   ]
  }
 ],
 "metadata": {
  "kernelspec": {
   "display_name": "Python 3 (ipykernel)",
   "language": "python",
   "name": "python3"
  },
  "language_info": {
   "codemirror_mode": {
    "name": "ipython",
    "version": 3
   },
   "file_extension": ".py",
   "mimetype": "text/x-python",
   "name": "python",
   "nbconvert_exporter": "python",
   "pygments_lexer": "ipython3",
   "version": "3.10.8"
  }
 },
 "nbformat": 4,
 "nbformat_minor": 5
}
